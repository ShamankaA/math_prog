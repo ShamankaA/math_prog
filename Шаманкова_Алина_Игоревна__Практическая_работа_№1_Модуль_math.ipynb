{
  "nbformat": 4,
  "nbformat_minor": 0,
  "metadata": {
    "colab": {
      "provenance": []
    },
    "kernelspec": {
      "name": "python3",
      "display_name": "Python 3"
    },
    "language_info": {
      "name": "python"
    }
  },
  "cells": [
    {
      "cell_type": "code",
      "execution_count": null,
      "metadata": {
        "colab": {
          "base_uri": "https://localhost:8080/"
        },
        "id": "3PCMOGQpOxrH",
        "outputId": "5a2abe24-e284-4385-d548-54034b87ca24"
      },
      "outputs": [
        {
          "output_type": "stream",
          "name": "stdout",
          "text": [
            "1\n",
            "-2\n",
            "1\n",
            "Уравнение имеет один корень: x= 1.0\n"
          ]
        }
      ],
      "source": [
        "import math\n",
        "def urav(a, b, c):\n",
        "  D = pow(b, 2) - (4*a*c)\n",
        "  if D<0:\n",
        "    return('Корней нет')\n",
        "  elif D==0:\n",
        "    x = (-b)/(2*a)\n",
        "    return f'Уравнение имеет один корень: x = {x}'\n",
        "  else:\n",
        "    x1 = (-b)+(sqrt(D))/(2*a)\n",
        "    x2 = (-b)-(sqrt(D))/(2*a)\n",
        "    return f'Уравнение имеет два корня: x1 = {x1}, x2 = {x2}'\n",
        "\n",
        "def show():\n",
        "  a = int(input())\n",
        "  b = int(input())\n",
        "  c = int(input())\n",
        "  print(urav(a, b, c))\n",
        "show()\n",
        "\n",
        "\n",
        "\n",
        "\n"
      ]
    },
    {
      "cell_type": "code",
      "source": [
        "from math import sin, pi\n",
        "\n",
        "def trapezoidal_integral(f, a, b, n):\n",
        "  h = (b-a)/n\n",
        "  integral = (f(a) + f(b))*h/2\n",
        "  for i in range(1, n):\n",
        "    integral += f(a+h*i) * h\n",
        "  return integral\n",
        "\n",
        "def func1(x):\n",
        "  return pow(x, 2)\n",
        "\n",
        "def func2(x):\n",
        "  return sin(x)\n",
        "\n",
        "a = 0\n",
        "b = 1\n",
        "n = 100\n",
        "\n",
        "print(\"Результат интегрирования:\", trapezoidal_integral(func1, a, b, n))\n",
        "\n",
        "a = 0\n",
        "b = pi\n",
        "n = 1000\n",
        "\n",
        "print(\"Результат интегрирования:\", trapezoidal_integral(func2, a, b, n))\n",
        "\n",
        "\n",
        "\n",
        "\n"
      ],
      "metadata": {
        "colab": {
          "base_uri": "https://localhost:8080/"
        },
        "id": "ZeGJcqPdYjk1",
        "outputId": "68785486-cc55-4bbd-f27c-420c6ba324a7"
      },
      "execution_count": 3,
      "outputs": [
        {
          "output_type": "stream",
          "name": "stdout",
          "text": [
            "Результат интегрирования: 0.33335000000000015\n",
            "Результат интегрирования: 1.9999983550656637\n"
          ]
        }
      ]
    },
    {
      "cell_type": "markdown",
      "source": [],
      "metadata": {
        "id": "GqR4BQ3XWjoI"
      }
    },
    {
      "cell_type": "code",
      "source": [
        "import math\n",
        "\n",
        "def f(x):\n",
        "  return x**3 - x - 2\n",
        "\n",
        "def bis(a, b, acc):\n",
        "  if f(a) * f(b) >= 0:\n",
        "    print(\"Метод бисекции не применим\")\n",
        "    return None\n",
        "\n",
        "  while (b-a) / 2 > acc:\n",
        "    c = (a+b) / 2\n",
        "    if f(c) == 0:\n",
        "      return c\n",
        "    elif f(a) * f(c) < 0:\n",
        "      b = c\n",
        "    else:\n",
        "      a = c\n",
        "\n",
        "  return c\n",
        "\n",
        "\n",
        "a = 1\n",
        "b = 2\n",
        "acc = 0.001\n",
        "\n",
        "root = bis(a, b, acc)\n",
        "\n",
        "if root is not None:\n",
        "    print(f\"Найден корень: {root}\")\n",
        "else:\n",
        "    print(\"Не удалось найти корень\")"
      ],
      "metadata": {
        "colab": {
          "base_uri": "https://localhost:8080/"
        },
        "id": "jsnSX-oVbB76",
        "outputId": "b8c65afb-2ec0-46ed-ded0-bdeab70da7a9"
      },
      "execution_count": 10,
      "outputs": [
        {
          "output_type": "stream",
          "name": "stdout",
          "text": [
            "Начало интервала a: 1\n",
            "Конец интервала b: 2\n",
            "Точность: 0.001\n",
            "Найден корень: 1.521484375\n"
          ]
        }
      ]
    },
    {
      "cell_type": "code",
      "source": [
        "import math\n",
        "\n",
        "def deposit(P, r, t):\n",
        "    A = P * math.exp(r * t)\n",
        "    return A\n",
        "\n",
        "\n",
        "P = 10000\n",
        "r = 0.05\n",
        "t = 2\n",
        "\n",
        "itog = deposit(P, r, t)\n",
        "print(f\"Итоговая сумма депозита: {itog:.2f}\")\n"
      ],
      "metadata": {
        "colab": {
          "base_uri": "https://localhost:8080/"
        },
        "id": "7x97NnBv1Wow",
        "outputId": "ee5cc310-5222-4f30-e987-c07ca8c11130"
      },
      "execution_count": 15,
      "outputs": [
        {
          "output_type": "stream",
          "name": "stdout",
          "text": [
            "Итоговая сумма депозита: 11051.71\n"
          ]
        }
      ]
    },
    {
      "cell_type": "code",
      "source": [
        "import math\n",
        "\n",
        "def procent(P, A, t):\n",
        "    r = (math.log(A / P) / t)\n",
        "    return r\n",
        "\n",
        "P = 10000\n",
        "A = 11051.71\n",
        "t = 2\n",
        "\n",
        "# Расчет годовой процентной ставки\n",
        "proc_stafca = procent(P, A, t)\n",
        "print(f\"Годовая процентная ставка: {proc_stafca:.2%}\")\n"
      ],
      "metadata": {
        "colab": {
          "base_uri": "https://localhost:8080/"
        },
        "id": "E0E3gVGb3EIu",
        "outputId": "abf3a034-b3ca-4bc4-984d-fd9dc768e029"
      },
      "execution_count": 16,
      "outputs": [
        {
          "output_type": "stream",
          "name": "stdout",
          "text": [
            "Годовая процентная ставка: 5.00%\n"
          ]
        }
      ]
    },
    {
      "cell_type": "code",
      "source": [
        "import math\n",
        "def sqrt_newton_method(a, epsilon=1e-10):\n",
        "    x = a\n",
        "    while True:\n",
        "        next_x = 0.5 * (x + a / x)\n",
        "        if abs(x - next_x) < epsilon:\n",
        "            break\n",
        "        x = next_x\n",
        "    return x\n",
        "\n",
        "def main():\n",
        "    a = float(input(\"Введите число для извлечения квадратного корня: \"))\n",
        "    sqrt_newton = sqrt_newton_method(a)\n",
        "    print(f\"Квадратный корень, вычесленный методом Ньютона: {sqrt_newton:.1f}\")\n",
        "\n",
        "    sqrt_math = math.sqrt(a)\n",
        "    print(f\"Квадратный корень, вычисленный с использованием стандартной функцией: {sqrt_math}\")\n",
        "\n",
        "    differ = abs(sqrt_newton - sqrt_math)\n",
        "    print(f\"Разница между методами: {differ:.1f}\")\n",
        "\n",
        "main()"
      ],
      "metadata": {
        "colab": {
          "base_uri": "https://localhost:8080/"
        },
        "id": "2LWRjHiT4Ki4",
        "outputId": "f22d8cfc-faa9-46d2-c36b-9ac77330b3f5"
      },
      "execution_count": 30,
      "outputs": [
        {
          "output_type": "stream",
          "name": "stdout",
          "text": [
            "Введите число для извлечения квадратного корня: 2\n",
            "Квадратный корень, вычесленный методом Ньютона: 1.4\n",
            "Квадратный корень, вычисленный с использованием стандартной функцией: 1.4142135623730951\n",
            "Разница между методами: 0.0\n"
          ]
        }
      ]
    },
    {
      "cell_type": "code",
      "source": [
        "import math\n",
        "\n",
        "def vectors(x1, y1, x2, y2):\n",
        "    A = math.sqrt(x1**2 + y1**2)\n",
        "    B = math.sqrt(x2**2 + y2**2)\n",
        "\n",
        "    angleA_B = (x1 * x2 + y1 * y2) / (A * B)\n",
        "    rad = math.acos(angleA_B)\n",
        "    degr = math.degrees(rad)\n",
        "\n",
        "    return degr\n",
        "\n",
        "x1, y1 = 1, 0\n",
        "x2, y2 = 0, 1\n",
        "\n",
        "angle = vectors(3, 0, 0, 4)\n",
        "print(angle)\n",
        "\n",
        "angle = vectors(5, 5, 5, 5)\n",
        "print(angle)\n",
        "\n",
        "angle = vectors(2, 3, 4, -1)\n",
        "print(angle)"
      ],
      "metadata": {
        "colab": {
          "base_uri": "https://localhost:8080/"
        },
        "id": "h4rJ06jvhI2Z",
        "outputId": "49c4db35-7ada-46dc-e803-c8306d58a2e1"
      },
      "execution_count": 7,
      "outputs": [
        {
          "output_type": "stream",
          "name": "stdout",
          "text": [
            "90.0\n",
            "8.537736462515939e-07\n",
            "70.3461759419467\n"
          ]
        }
      ]
    },
    {
      "cell_type": "code",
      "source": [
        "import math\n",
        "\n",
        "def tochka(R, deg):\n",
        "\n",
        "    rad = math.radians(deg)\n",
        "    x = R * math.cos(rad)\n",
        "    y = R * math.sin(rad)\n",
        "\n",
        "    return x, y\n",
        "\n",
        "print(f\"Координаты точки P: ({tochka(5, 45)})\")\n",
        "print(f\"Координаты точки P: ({tochka(10, 90)})\")\n",
        "print(f\"Координаты точки P: ({tochka(1, 0)})\")"
      ],
      "metadata": {
        "colab": {
          "base_uri": "https://localhost:8080/"
        },
        "id": "b0nMKSjkmH72",
        "outputId": "9c339410-8d15-43cb-972b-f21c0de1af36"
      },
      "execution_count": 8,
      "outputs": [
        {
          "output_type": "stream",
          "name": "stdout",
          "text": [
            "Координаты точки P: ((3.5355339059327378, 3.5355339059327373))\n",
            "Координаты точки P: ((6.123233995736766e-16, 10.0))\n",
            "Координаты точки P: ((1.0, 0.0))\n"
          ]
        }
      ]
    },
    {
      "cell_type": "code",
      "source": [
        "def terfer(x):\n",
        "    P = (1/2) * (math.erf(x/math.sqrt(2)) - math.erf(-x/math.sqrt(2)))\n",
        "    return P\n",
        "\n",
        "print(terfer(1))\n",
        "print(terfer(2))\n",
        "print(terfer(0))"
      ],
      "metadata": {
        "colab": {
          "base_uri": "https://localhost:8080/"
        },
        "id": "eS82u_YHmypp",
        "outputId": "f1c9a847-36cb-4b56-e326-803063642ccf"
      },
      "execution_count": 9,
      "outputs": [
        {
          "output_type": "stream",
          "name": "stdout",
          "text": [
            "0.6826894921370859\n",
            "0.9544997361036416\n",
            "0.0\n"
          ]
        }
      ]
    },
    {
      "cell_type": "code",
      "source": [
        "import math\n",
        "\n",
        "def volume(n, R):\n",
        "    V = (math.pi**(n/2) * R**n) / math.gamma(n/2 + 1)\n",
        "    return V\n",
        "\n",
        "print(volume(2, 1))\n",
        "print(volume(3, 1))\n",
        "print(volume(10, 2))"
      ],
      "metadata": {
        "colab": {
          "base_uri": "https://localhost:8080/"
        },
        "id": "kfJkma6TnU9E",
        "outputId": "a1d64e2b-3d91-4419-ff83-03ad59162f73"
      },
      "execution_count": 11,
      "outputs": [
        {
          "output_type": "stream",
          "name": "stdout",
          "text": [
            "3.141592653589793\n",
            "4.1887902047863905\n",
            "2611.3679768344014\n"
          ]
        }
      ]
    },
    {
      "cell_type": "code",
      "source": [
        "import math\n",
        "\n",
        "def calculate_temperature(angle, intensity, pressure):\n",
        "\n",
        "    theta = math.radians(angle)\n",
        "    effective_angle = math.sin(theta)\n",
        "\n",
        "    P = math.exp(-pressure / 101325)\n",
        "\n",
        "    I = intensity * effective_angle * math.log(P + 1)\n",
        "\n",
        "    temperature = round(I, 2)\n",
        "\n",
        "    if temperature > 0:\n",
        "        return (temperature)\n",
        "    else:\n",
        "        return (temperature)\n",
        "\n",
        "\n",
        "print(calculate_temperature(45, 1361, 101325))\n",
        "print(calculate_temperature(187, 6500, 101325))\n",
        "print(calculate_temperature(210, 24000, 101325))\n"
      ],
      "metadata": {
        "colab": {
          "base_uri": "https://localhost:8080/"
        },
        "id": "-Kx6AQUqpkyZ",
        "outputId": "fbdeb0d0-2b54-4af2-be20-90c77c7881eb"
      },
      "execution_count": 12,
      "outputs": [
        {
          "output_type": "stream",
          "name": "stdout",
          "text": [
            "301.47\n",
            "-248.15\n",
            "-3759.14\n"
          ]
        }
      ]
    }
  ]
}